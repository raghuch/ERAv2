{
 "cells": [
  {
   "cell_type": "code",
   "execution_count": 1,
   "id": "ed97f9c6-f744-4549-85b3-3a2639e71ecb",
   "metadata": {},
   "outputs": [
    {
     "name": "stderr",
     "output_type": "stream",
     "text": [
      "/home/raghu/.local/lib/python3.10/site-packages/transformers/utils/generic.py:441: UserWarning: torch.utils._pytree._register_pytree_node is deprecated. Please use torch.utils._pytree.register_pytree_node instead.\n",
      "  _torch_pytree._register_pytree_node(\n"
     ]
    }
   ],
   "source": [
    "import torch\n",
    "import torch.nn as nn\n",
    "import torch.nn.functional as F\n",
    "from torchsummary import summary\n",
    "from tqdm import tqdm\n",
    "\n",
    "from model2 import Net\n",
    "from train_test_loop import *\n",
    "from data_utils import *"
   ]
  },
  {
   "cell_type": "code",
   "execution_count": 2,
   "id": "3b0517dd-5763-4295-8b6a-6bfd834ea9d3",
   "metadata": {},
   "outputs": [
    {
     "data": {
      "text/plain": [
       "<torch._C.Generator at 0x7f4f60c77290>"
      ]
     },
     "execution_count": 2,
     "metadata": {},
     "output_type": "execute_result"
    }
   ],
   "source": [
    "torch.manual_seed(1)"
   ]
  },
  {
   "cell_type": "code",
   "execution_count": 3,
   "id": "76095d14-444d-4eb1-87ae-f119b88532df",
   "metadata": {},
   "outputs": [
    {
     "name": "stdout",
     "output_type": "stream",
     "text": [
      "----------------------------------------------------------------\n",
      "        Layer (type)               Output Shape         Param #\n",
      "================================================================\n",
      "            Conv2d-1            [-1, 8, 26, 26]              72\n",
      "              ReLU-2            [-1, 8, 26, 26]               0\n",
      "       BatchNorm2d-3            [-1, 8, 26, 26]              16\n",
      "           Dropout-4            [-1, 8, 26, 26]               0\n",
      "            Conv2d-5           [-1, 16, 24, 24]           1,152\n",
      "              ReLU-6           [-1, 16, 24, 24]               0\n",
      "       BatchNorm2d-7           [-1, 16, 24, 24]              32\n",
      "           Dropout-8           [-1, 16, 24, 24]               0\n",
      "            Conv2d-9           [-1, 10, 24, 24]             160\n",
      "        MaxPool2d-10           [-1, 10, 12, 12]               0\n",
      "           Conv2d-11           [-1, 16, 10, 10]           1,440\n",
      "             ReLU-12           [-1, 16, 10, 10]               0\n",
      "      BatchNorm2d-13           [-1, 16, 10, 10]              32\n",
      "          Dropout-14           [-1, 16, 10, 10]               0\n",
      "           Conv2d-15             [-1, 16, 8, 8]           2,304\n",
      "             ReLU-16             [-1, 16, 8, 8]               0\n",
      "      BatchNorm2d-17             [-1, 16, 8, 8]              32\n",
      "          Dropout-18             [-1, 16, 8, 8]               0\n",
      "           Conv2d-19             [-1, 16, 6, 6]           2,304\n",
      "             ReLU-20             [-1, 16, 6, 6]               0\n",
      "      BatchNorm2d-21             [-1, 16, 6, 6]              32\n",
      "          Dropout-22             [-1, 16, 6, 6]               0\n",
      "        AvgPool2d-23             [-1, 16, 1, 1]               0\n",
      "           Conv2d-24             [-1, 10, 1, 1]             160\n",
      "================================================================\n",
      "Total params: 7,736\n",
      "Trainable params: 7,736\n",
      "Non-trainable params: 0\n",
      "----------------------------------------------------------------\n",
      "Input size (MB): 0.00\n",
      "Forward/backward pass size (MB): 0.60\n",
      "Params size (MB): 0.03\n",
      "Estimated Total Size (MB): 0.63\n",
      "----------------------------------------------------------------\n"
     ]
    }
   ],
   "source": [
    "BATCH_SIZE=128\n",
    "device = torch.device(\"cuda\" if torch.cuda.is_available() else \"cpu\")\n",
    "model = Net().to(device)\n",
    "summary(model, input_size=(1, 28, 28))"
   ]
  },
  {
   "cell_type": "code",
   "execution_count": 4,
   "id": "ae7ce40c-3d77-4088-9505-3e55f93acd75",
   "metadata": {},
   "outputs": [],
   "source": [
    "default_train_transforms = transforms.Compose([transforms.RandomRotation((-7.0, 7.0), fill=(1,)),\n",
    "                                       transforms.ToTensor(),\n",
    "                                       transforms.Normalize((0.1307,), (0.3081,))])\n",
    "default_test_transforms = transforms.Compose([transforms.ToTensor(),\n",
    "                        transforms.Normalize((0.1307,), (0.3081,))])"
   ]
  },
  {
   "cell_type": "code",
   "execution_count": 5,
   "id": "dc8d6fca-90aa-4126-b40a-905278701ef5",
   "metadata": {},
   "outputs": [],
   "source": [
    "train_dataloader, test_dataloader = get_augmented_MNIST_dataset(\"~/work/data/\", \n",
    "                                    train_tfms=default_train_transforms, test_tfms=default_test_transforms,\n",
    "                                    batch_sz=BATCH_SIZE)"
   ]
  },
  {
   "cell_type": "code",
   "execution_count": 6,
   "id": "0bbcea16-36c7-48f2-b048-df729ca730b6",
   "metadata": {},
   "outputs": [],
   "source": [
    "optimizer = torch.optim.SGD(model.parameters(), lr=0.05, momentum=0.9)\n",
    "scheduler = get_schedulder(optimizer, \"StepLR\", step_size=6, gamma=0.25)"
   ]
  },
  {
   "cell_type": "code",
   "execution_count": 7,
   "id": "bd2e83d9-87c2-473f-a85a-2d567b391609",
   "metadata": {},
   "outputs": [
    {
     "name": "stdout",
     "output_type": "stream",
     "text": [
      "Running EPOCH: 1\n"
     ]
    },
    {
     "name": "stderr",
     "output_type": "stream",
     "text": [
      "Loss=0.025125885382294655 Batch_id=468 Accuracy=91.36: 100%|█████████████████████████| 469/469 [00:01<00:00, 236.28it/s]\n"
     ]
    },
    {
     "name": "stdout",
     "output_type": "stream",
     "text": [
      "\n",
      "Test set: Average loss: 0.0693, Accuracy: 9791/10000 (97.91%)\n",
      "\n",
      "Running EPOCH: 2\n"
     ]
    },
    {
     "name": "stderr",
     "output_type": "stream",
     "text": [
      "Loss=0.03183881565928459 Batch_id=468 Accuracy=97.69: 100%|██████████████████████████| 469/469 [00:01<00:00, 238.76it/s]\n"
     ]
    },
    {
     "name": "stdout",
     "output_type": "stream",
     "text": [
      "\n",
      "Test set: Average loss: 0.0442, Accuracy: 9866/10000 (98.66%)\n",
      "\n",
      "Running EPOCH: 3\n"
     ]
    },
    {
     "name": "stderr",
     "output_type": "stream",
     "text": [
      "Loss=0.06838590651750565 Batch_id=468 Accuracy=98.17: 100%|██████████████████████████| 469/469 [00:01<00:00, 245.80it/s]\n"
     ]
    },
    {
     "name": "stdout",
     "output_type": "stream",
     "text": [
      "\n",
      "Test set: Average loss: 0.0451, Accuracy: 9853/10000 (98.53%)\n",
      "\n",
      "Running EPOCH: 4\n"
     ]
    },
    {
     "name": "stderr",
     "output_type": "stream",
     "text": [
      "Loss=0.01746177114546299 Batch_id=468 Accuracy=98.28: 100%|██████████████████████████| 469/469 [00:01<00:00, 248.66it/s]\n"
     ]
    },
    {
     "name": "stdout",
     "output_type": "stream",
     "text": [
      "\n",
      "Test set: Average loss: 0.0371, Accuracy: 9886/10000 (98.86%)\n",
      "\n",
      "Running EPOCH: 5\n"
     ]
    },
    {
     "name": "stderr",
     "output_type": "stream",
     "text": [
      "Loss=0.026944464072585106 Batch_id=468 Accuracy=98.38: 100%|█████████████████████████| 469/469 [00:01<00:00, 250.80it/s]\n"
     ]
    },
    {
     "name": "stdout",
     "output_type": "stream",
     "text": [
      "\n",
      "Test set: Average loss: 0.0318, Accuracy: 9907/10000 (99.07%)\n",
      "\n",
      "Running EPOCH: 6\n"
     ]
    },
    {
     "name": "stderr",
     "output_type": "stream",
     "text": [
      "Loss=0.040501270443201065 Batch_id=468 Accuracy=98.53: 100%|█████████████████████████| 469/469 [00:01<00:00, 248.38it/s]\n"
     ]
    },
    {
     "name": "stdout",
     "output_type": "stream",
     "text": [
      "\n",
      "Test set: Average loss: 0.0249, Accuracy: 9915/10000 (99.15%)\n",
      "\n",
      "Running EPOCH: 7\n"
     ]
    },
    {
     "name": "stderr",
     "output_type": "stream",
     "text": [
      "Loss=0.042971160262823105 Batch_id=468 Accuracy=98.57: 100%|█████████████████████████| 469/469 [00:01<00:00, 244.00it/s]\n"
     ]
    },
    {
     "name": "stdout",
     "output_type": "stream",
     "text": [
      "\n",
      "Test set: Average loss: 0.0263, Accuracy: 9921/10000 (99.21%)\n",
      "\n",
      "Running EPOCH: 8\n"
     ]
    },
    {
     "name": "stderr",
     "output_type": "stream",
     "text": [
      "Loss=0.05864468216896057 Batch_id=468 Accuracy=98.73: 100%|██████████████████████████| 469/469 [00:01<00:00, 239.26it/s]\n"
     ]
    },
    {
     "name": "stdout",
     "output_type": "stream",
     "text": [
      "\n",
      "Test set: Average loss: 0.0273, Accuracy: 9906/10000 (99.06%)\n",
      "\n",
      "Running EPOCH: 9\n"
     ]
    },
    {
     "name": "stderr",
     "output_type": "stream",
     "text": [
      "Loss=0.018115108832716942 Batch_id=468 Accuracy=98.70: 100%|█████████████████████████| 469/469 [00:01<00:00, 247.84it/s]\n"
     ]
    },
    {
     "name": "stdout",
     "output_type": "stream",
     "text": [
      "\n",
      "Test set: Average loss: 0.0268, Accuracy: 9919/10000 (99.19%)\n",
      "\n",
      "Running EPOCH: 10\n"
     ]
    },
    {
     "name": "stderr",
     "output_type": "stream",
     "text": [
      "Loss=0.025244640186429024 Batch_id=468 Accuracy=98.73: 100%|█████████████████████████| 469/469 [00:01<00:00, 244.48it/s]\n"
     ]
    },
    {
     "name": "stdout",
     "output_type": "stream",
     "text": [
      "\n",
      "Test set: Average loss: 0.0251, Accuracy: 9911/10000 (99.11%)\n",
      "\n",
      "Running EPOCH: 11\n"
     ]
    },
    {
     "name": "stderr",
     "output_type": "stream",
     "text": [
      "Loss=0.05009814724326134 Batch_id=468 Accuracy=98.75: 100%|██████████████████████████| 469/469 [00:01<00:00, 245.38it/s]\n"
     ]
    },
    {
     "name": "stdout",
     "output_type": "stream",
     "text": [
      "\n",
      "Test set: Average loss: 0.0254, Accuracy: 9917/10000 (99.17%)\n",
      "\n",
      "Running EPOCH: 12\n"
     ]
    },
    {
     "name": "stderr",
     "output_type": "stream",
     "text": [
      "Loss=0.05259786918759346 Batch_id=468 Accuracy=98.73: 100%|██████████████████████████| 469/469 [00:01<00:00, 238.08it/s]\n"
     ]
    },
    {
     "name": "stdout",
     "output_type": "stream",
     "text": [
      "\n",
      "Test set: Average loss: 0.0251, Accuracy: 9918/10000 (99.18%)\n",
      "\n",
      "Running EPOCH: 13\n"
     ]
    },
    {
     "name": "stderr",
     "output_type": "stream",
     "text": [
      "Loss=0.06490005552768707 Batch_id=468 Accuracy=98.87: 100%|██████████████████████████| 469/469 [00:01<00:00, 247.31it/s]\n"
     ]
    },
    {
     "name": "stdout",
     "output_type": "stream",
     "text": [
      "\n",
      "Test set: Average loss: 0.0246, Accuracy: 9918/10000 (99.18%)\n",
      "\n",
      "Running EPOCH: 14\n"
     ]
    },
    {
     "name": "stderr",
     "output_type": "stream",
     "text": [
      "Loss=0.011960762552917004 Batch_id=468 Accuracy=98.86: 100%|█████████████████████████| 469/469 [00:02<00:00, 231.12it/s]\n"
     ]
    },
    {
     "name": "stdout",
     "output_type": "stream",
     "text": [
      "\n",
      "Test set: Average loss: 0.0232, Accuracy: 9926/10000 (99.26%)\n",
      "\n",
      "Running EPOCH: 15\n"
     ]
    },
    {
     "name": "stderr",
     "output_type": "stream",
     "text": [
      "Loss=0.013371418230235577 Batch_id=468 Accuracy=98.86: 100%|█████████████████████████| 469/469 [00:01<00:00, 243.20it/s]\n"
     ]
    },
    {
     "name": "stdout",
     "output_type": "stream",
     "text": [
      "\n",
      "Test set: Average loss: 0.0227, Accuracy: 9927/10000 (99.27%)\n",
      "\n"
     ]
    }
   ],
   "source": [
    "EPOCHS=15\n",
    "for i in range(EPOCHS):\n",
    "    print(\"Running EPOCH: \"+str(i+1))\n",
    "    train(model, device, train_dataloader, optimizer=optimizer, epoch=i)\n",
    "    test(model, device, test_dataloader)"
   ]
  },
  {
   "cell_type": "markdown",
   "id": "d5dbdcac-4672-404d-a82f-ce8c38b36f71",
   "metadata": {},
   "source": [
    "#### Target:"
   ]
  },
  {
   "cell_type": "markdown",
   "id": "504ecd3e-d23a-44c5-822c-86876d62c000",
   "metadata": {},
   "source": [
    "Reduce the model size to less than 8k params (primary goal), and tweak with lr/scheduler"
   ]
  },
  {
   "cell_type": "markdown",
   "id": "c5092ff9-b17f-481b-9a8e-45e8711b58aa",
   "metadata": {},
   "source": [
    "#### Result:\n",
    "\n",
    "Accuracy nearly 99.2% but fluctuating. Model size: 7736 params"
   ]
  },
  {
   "cell_type": "markdown",
   "id": "02926c12-eddb-4862-a0f1-1be62dd5d701",
   "metadata": {},
   "source": [
    "\n",
    "#### Analysis:\n",
    "\n",
    "Now trying to get the model size down first. The change is in the backbone CNN which goes like this: input block -> 2 conv blocks (conv + ReLU) -> transition block (2x2 maxpool) -> 4 conv blocks (conv + ReLU) -> final conv2d layer. The difference from Step 1 is the number of channels: Step1 has a channel progression like 1 -> 32 -> 64 -> 128 -> 32 -> 64 -> 128 -> 10 -> 10, where as we don't cross 16 channels in any conv2d layer here. The new channel progression is 1 -> 8 -> 16 -> 10 -> 16 -> 16 -> 10 with a GAP of kernel size 6 before the last layer. CHange the lr scheduler with lr = 0.05, step_size = 6 and gamma = 0.25. The final change is the removal of one conv block just before the GAP layer, as an experiment to reduce model size, and the number of params is 7,736 (within our range). I selected that particular conv block since the number of input and output channels are the same, so I thought I could remove since number of input and output features is the same. (May work for smaller datasets like MNIST, but may fail on larger datasets since many more features are present in larger datasets). The test accuracy for 15 epochs: 99.2% but is fluctuating. It is closer to the required test accuracy, it is not consistent, so may be we are reducing the lr too fast (i.e. we should increase step_size or decrease gamma or increase lr or a combination of these three)."
   ]
  },
  {
   "cell_type": "code",
   "execution_count": null,
   "id": "68e5791b-2ae2-4e2c-b16a-622e35733f64",
   "metadata": {},
   "outputs": [],
   "source": []
  }
 ],
 "metadata": {
  "kernelspec": {
   "display_name": "Python 3 (ipykernel)",
   "language": "python",
   "name": "python3"
  },
  "language_info": {
   "codemirror_mode": {
    "name": "ipython",
    "version": 3
   },
   "file_extension": ".py",
   "mimetype": "text/x-python",
   "name": "python",
   "nbconvert_exporter": "python",
   "pygments_lexer": "ipython3",
   "version": "3.10.12"
  }
 },
 "nbformat": 4,
 "nbformat_minor": 5
}
