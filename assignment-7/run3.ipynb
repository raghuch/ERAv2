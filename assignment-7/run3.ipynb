{
 "cells": [
  {
   "cell_type": "code",
   "execution_count": 1,
   "id": "738f484e-4291-4e5c-a40f-e837270db472",
   "metadata": {},
   "outputs": [
    {
     "name": "stderr",
     "output_type": "stream",
     "text": [
      "/home/raghu/.local/lib/python3.10/site-packages/transformers/utils/generic.py:441: UserWarning: torch.utils._pytree._register_pytree_node is deprecated. Please use torch.utils._pytree.register_pytree_node instead.\n",
      "  _torch_pytree._register_pytree_node(\n"
     ]
    }
   ],
   "source": [
    "import torch\n",
    "import torch.nn as nn\n",
    "import torch.nn.functional as F\n",
    "from torchsummary import summary\n",
    "from tqdm import tqdm\n",
    "\n",
    "from model3 import Net\n",
    "from train_test_loop import *\n",
    "from data_utils import *"
   ]
  },
  {
   "cell_type": "code",
   "execution_count": 2,
   "id": "9ae80981-2b38-4f89-a6c6-945c4d05e280",
   "metadata": {},
   "outputs": [
    {
     "data": {
      "text/plain": [
       "<torch._C.Generator at 0x7f329f5db290>"
      ]
     },
     "execution_count": 2,
     "metadata": {},
     "output_type": "execute_result"
    }
   ],
   "source": [
    "torch.manual_seed(42)"
   ]
  },
  {
   "cell_type": "code",
   "execution_count": 3,
   "id": "bd667212-57ae-4466-a9ac-47216c806054",
   "metadata": {},
   "outputs": [
    {
     "name": "stdout",
     "output_type": "stream",
     "text": [
      "----------------------------------------------------------------\n",
      "        Layer (type)               Output Shape         Param #\n",
      "================================================================\n",
      "            Conv2d-1            [-1, 8, 26, 26]              72\n",
      "              ReLU-2            [-1, 8, 26, 26]               0\n",
      "       BatchNorm2d-3            [-1, 8, 26, 26]              16\n",
      "           Dropout-4            [-1, 8, 26, 26]               0\n",
      "            Conv2d-5           [-1, 16, 24, 24]           1,152\n",
      "              ReLU-6           [-1, 16, 24, 24]               0\n",
      "       BatchNorm2d-7           [-1, 16, 24, 24]              32\n",
      "           Dropout-8           [-1, 16, 24, 24]               0\n",
      "            Conv2d-9           [-1, 10, 24, 24]             160\n",
      "        MaxPool2d-10           [-1, 10, 12, 12]               0\n",
      "           Conv2d-11           [-1, 16, 10, 10]           1,440\n",
      "             ReLU-12           [-1, 16, 10, 10]               0\n",
      "      BatchNorm2d-13           [-1, 16, 10, 10]              32\n",
      "          Dropout-14           [-1, 16, 10, 10]               0\n",
      "           Conv2d-15             [-1, 16, 8, 8]           2,304\n",
      "             ReLU-16             [-1, 16, 8, 8]               0\n",
      "      BatchNorm2d-17             [-1, 16, 8, 8]              32\n",
      "          Dropout-18             [-1, 16, 8, 8]               0\n",
      "           Conv2d-19             [-1, 16, 6, 6]           2,304\n",
      "             ReLU-20             [-1, 16, 6, 6]               0\n",
      "      BatchNorm2d-21             [-1, 16, 6, 6]              32\n",
      "          Dropout-22             [-1, 16, 6, 6]               0\n",
      "        AvgPool2d-23             [-1, 16, 1, 1]               0\n",
      "           Conv2d-24             [-1, 10, 1, 1]             160\n",
      "================================================================\n",
      "Total params: 7,736\n",
      "Trainable params: 7,736\n",
      "Non-trainable params: 0\n",
      "----------------------------------------------------------------\n",
      "Input size (MB): 0.00\n",
      "Forward/backward pass size (MB): 0.60\n",
      "Params size (MB): 0.03\n",
      "Estimated Total Size (MB): 0.63\n",
      "----------------------------------------------------------------\n"
     ]
    }
   ],
   "source": [
    "BATCH_SIZE=128\n",
    "device = torch.device(\"cuda\" if torch.cuda.is_available() else \"cpu\")\n",
    "model = Net().to(device)\n",
    "summary(model, input_size=(1, 28, 28))"
   ]
  },
  {
   "cell_type": "code",
   "execution_count": 4,
   "id": "d36db1a5-0d8b-4e10-b1a6-703ae8b8dafc",
   "metadata": {},
   "outputs": [],
   "source": [
    "default_train_transforms = transforms.Compose([\n",
    "                                       transforms.ColorJitter(brightness=0.10, contrast=0.1, saturation=0.10, hue=0.1),\n",
    "                                    transforms.RandomRotation((-7.0, 7.0), fill=(1,)),\n",
    "                                       transforms.ToTensor(),\n",
    "                                       transforms.Normalize((0.1307,), (0.3081,))])\n",
    "default_test_transforms = transforms.Compose([\n",
    "                        transforms.ToTensor(),\n",
    "                        transforms.Normalize((0.1307,), (0.3081,))\n",
    "                    ])"
   ]
  },
  {
   "cell_type": "code",
   "execution_count": 5,
   "id": "ea92467d-299f-4a73-a492-e85c7c03335c",
   "metadata": {},
   "outputs": [],
   "source": [
    "train_dataloader, test_dataloader = get_augmented_MNIST_dataset(\"~/work/data/\", \n",
    "                                    train_tfms=default_train_transforms, test_tfms=default_test_transforms,\n",
    "                                    batch_sz=BATCH_SIZE)"
   ]
  },
  {
   "cell_type": "code",
   "execution_count": 6,
   "id": "b693a3a1-2cb1-44f1-a73d-a48a515193e6",
   "metadata": {},
   "outputs": [],
   "source": [
    "optimizer = torch.optim.SGD(model.parameters(), lr=0.03, momentum=0.9)\n",
    "scheduler = get_schedulder(optimizer, \"StepLR\", step_size=10, gamma=0.3)"
   ]
  },
  {
   "cell_type": "code",
   "execution_count": null,
   "id": "adcb029b-e2ef-418d-b361-5375fd1b15f3",
   "metadata": {},
   "outputs": [
    {
     "name": "stdout",
     "output_type": "stream",
     "text": [
      "Running EPOCH: 1\n"
     ]
    },
    {
     "name": "stderr",
     "output_type": "stream",
     "text": [
      "Loss=0.14482437074184418 Batch_id=468 Accuracy=89.02: 100%|██████████████████████████| 469/469 [00:03<00:00, 141.98it/s]\n"
     ]
    },
    {
     "name": "stdout",
     "output_type": "stream",
     "text": [
      "\n",
      "Test set: Average loss: 0.0780, Accuracy: 9752/10000 (97.52%)\n",
      "\n",
      "Running EPOCH: 2\n"
     ]
    },
    {
     "name": "stderr",
     "output_type": "stream",
     "text": [
      "Loss=0.08775404095649719 Batch_id=468 Accuracy=97.29: 100%|██████████████████████████| 469/469 [00:03<00:00, 143.02it/s]\n"
     ]
    },
    {
     "name": "stdout",
     "output_type": "stream",
     "text": [
      "\n",
      "Test set: Average loss: 0.0516, Accuracy: 9823/10000 (98.23%)\n",
      "\n",
      "Running EPOCH: 3\n"
     ]
    },
    {
     "name": "stderr",
     "output_type": "stream",
     "text": [
      "Loss=0.0529782772064209 Batch_id=468 Accuracy=97.78: 100%|███████████████████████████| 469/469 [00:03<00:00, 141.61it/s]\n"
     ]
    },
    {
     "name": "stdout",
     "output_type": "stream",
     "text": [
      "\n",
      "Test set: Average loss: 0.0384, Accuracy: 9872/10000 (98.72%)\n",
      "\n",
      "Running EPOCH: 4\n"
     ]
    },
    {
     "name": "stderr",
     "output_type": "stream",
     "text": [
      "Loss=0.15022315084934235 Batch_id=468 Accuracy=98.10: 100%|██████████████████████████| 469/469 [00:03<00:00, 143.09it/s]\n"
     ]
    },
    {
     "name": "stdout",
     "output_type": "stream",
     "text": [
      "\n",
      "Test set: Average loss: 0.0485, Accuracy: 9851/10000 (98.51%)\n",
      "\n",
      "Running EPOCH: 5\n"
     ]
    },
    {
     "name": "stderr",
     "output_type": "stream",
     "text": [
      "Loss=0.12777666747570038 Batch_id=468 Accuracy=98.31: 100%|██████████████████████████| 469/469 [00:03<00:00, 142.23it/s]\n"
     ]
    },
    {
     "name": "stdout",
     "output_type": "stream",
     "text": [
      "\n",
      "Test set: Average loss: 0.0282, Accuracy: 9910/10000 (99.10%)\n",
      "\n",
      "Running EPOCH: 6\n"
     ]
    },
    {
     "name": "stderr",
     "output_type": "stream",
     "text": [
      "Loss=0.09280621260404587 Batch_id=468 Accuracy=98.39: 100%|██████████████████████████| 469/469 [00:03<00:00, 144.55it/s]\n"
     ]
    },
    {
     "name": "stdout",
     "output_type": "stream",
     "text": [
      "\n",
      "Test set: Average loss: 0.0320, Accuracy: 9901/10000 (99.01%)\n",
      "\n",
      "Running EPOCH: 7\n"
     ]
    },
    {
     "name": "stderr",
     "output_type": "stream",
     "text": [
      "Loss=0.042585548013448715 Batch_id=468 Accuracy=98.54: 100%|█████████████████████████| 469/469 [00:03<00:00, 139.13it/s]\n"
     ]
    },
    {
     "name": "stdout",
     "output_type": "stream",
     "text": [
      "\n",
      "Test set: Average loss: 0.0288, Accuracy: 9898/10000 (98.98%)\n",
      "\n",
      "Running EPOCH: 8\n"
     ]
    },
    {
     "name": "stderr",
     "output_type": "stream",
     "text": [
      "Loss=0.0065360888838768005 Batch_id=468 Accuracy=98.60: 100%|████████████████████████| 469/469 [00:03<00:00, 138.79it/s]\n"
     ]
    },
    {
     "name": "stdout",
     "output_type": "stream",
     "text": [
      "\n",
      "Test set: Average loss: 0.0257, Accuracy: 9917/10000 (99.17%)\n",
      "\n",
      "Running EPOCH: 9\n"
     ]
    },
    {
     "name": "stderr",
     "output_type": "stream",
     "text": [
      "Loss=0.0038020461797714233 Batch_id=468 Accuracy=98.65: 100%|████████████████████████| 469/469 [00:03<00:00, 144.77it/s]\n"
     ]
    },
    {
     "name": "stdout",
     "output_type": "stream",
     "text": [
      "\n",
      "Test set: Average loss: 0.0324, Accuracy: 9889/10000 (98.89%)\n",
      "\n",
      "Running EPOCH: 10\n"
     ]
    },
    {
     "name": "stderr",
     "output_type": "stream",
     "text": [
      "Loss=0.01835606060922146 Batch_id=430 Accuracy=98.70:  90%|███████████████████████▎  | 420/469 [00:02<00:00, 150.53it/s]"
     ]
    }
   ],
   "source": [
    "EPOCHS=15\n",
    "for i in range(EPOCHS):\n",
    "    print(\"Running EPOCH: \"+str(i+1))\n",
    "    train(model, device, train_dataloader, optimizer=optimizer, epoch=i)\n",
    "    test(model, device, test_dataloader)"
   ]
  },
  {
   "cell_type": "code",
   "execution_count": null,
   "id": "738cefb6-898d-47dc-9b5f-62cd68b1dccc",
   "metadata": {},
   "outputs": [],
   "source": []
  }
 ],
 "metadata": {
  "kernelspec": {
   "display_name": "Python 3 (ipykernel)",
   "language": "python",
   "name": "python3"
  },
  "language_info": {
   "codemirror_mode": {
    "name": "ipython",
    "version": 3
   },
   "file_extension": ".py",
   "mimetype": "text/x-python",
   "name": "python",
   "nbconvert_exporter": "python",
   "pygments_lexer": "ipython3",
   "version": "3.10.12"
  }
 },
 "nbformat": 4,
 "nbformat_minor": 5
}
